{
 "cells": [
  {
   "cell_type": "markdown",
   "metadata": {},
   "source": [
    "Import numpy and pandas."
   ]
  },
  {
   "cell_type": "code",
   "execution_count": 1,
   "metadata": {},
   "outputs": [],
   "source": [
    "import pandas as pd\n",
    "import numpy as np"
   ]
  },
  {
   "cell_type": "markdown",
   "metadata": {},
   "source": [
    "Using the bash magic command, view the list of files inside of the data directory."
   ]
  },
  {
   "cell_type": "code",
   "execution_count": 2,
   "metadata": {},
   "outputs": [
    {
     "name": "stdout",
     "output_type": "stream",
     "text": [
      "ActiveFile-Wilm1thru8-20191015.csv      DE-VoterFile-Documentation 20171010.pdf\r\n"
     ]
    }
   ],
   "source": [
    "!ls data/\n"
   ]
  },
  {
   "cell_type": "markdown",
   "metadata": {},
   "source": [
    "Load the csv file into a Pandas DataFrame."
   ]
  },
  {
   "cell_type": "code",
   "execution_count": 3,
   "metadata": {},
   "outputs": [
    {
     "name": "stderr",
     "output_type": "stream",
     "text": [
      "/Users/luke/opt/anaconda3/lib/python3.8/site-packages/IPython/core/interactiveshell.py:3071: DtypeWarning: Columns (18,32,35,36,37,40,41,42,46) have mixed types.Specify dtype option on import or set low_memory=False.\n",
      "  has_raised = await self.run_ast_nodes(code_ast.body, cell_name,\n"
     ]
    }
   ],
   "source": [
    "df = pd.read_csv('data/ActiveFile-Wilm1thru8-20191015.csv')"
   ]
  },
  {
   "cell_type": "markdown",
   "metadata": {},
   "source": [
    "Display a list of columns in the DataFrame."
   ]
  },
  {
   "cell_type": "code",
   "execution_count": 4,
   "metadata": {},
   "outputs": [
    {
     "data": {
      "text/plain": [
       "Index(['UNIQUE-ID', 'LAST-NAME', 'FIRST-NAME', 'MID-INIT', 'SUFFIX',\n",
       "       'YEAR-OF-BIRTH', 'HOME-NO', 'HOME-APT', 'HOME-STREET', 'HOME-DEV',\n",
       "       'HOME-CITY', 'HOME-ZIPCODE', 'COUNTY', 'ED', 'RD', 'SD', 'CNLEVY',\n",
       "       'WILM', 'CODE-HOME-CITY', 'SCH-DIST', 'PARTY', 'DATE-REG', 'PP-HIST-1',\n",
       "       'PP-HIST-2', 'PR-HIST-1', 'PR-HIST-2', 'PR-HIST-3', 'GEN-HIST-1',\n",
       "       'GEN-HIST-2', 'GEN-HIST-3', 'GEN-HIST-4', 'GEN-HIST-5', 'SP-HIST-1',\n",
       "       'SP-HIST-2', 'SP-HIST-3', 'SCHL-HIST-1', 'SCHL-HIST-2', 'SCHL-HIST-3',\n",
       "       'SCHL-HIST-4', 'SCHL-HIST-5', 'REF-HIST-1', 'REF-HIST-2', 'REF-HIST-3',\n",
       "       'REF-HIST-4', 'REF-HIST-5', 'MAIL-NO', 'MAIL-APT', 'MAIL-STR',\n",
       "       'MAIL-CITY', 'MAIL-STATE', 'MAIL-ZIP', 'DATE-LAST-CHG', 'CODE-CHANGE',\n",
       "       'STATUS'],\n",
       "      dtype='object')"
      ]
     },
     "execution_count": 4,
     "metadata": {},
     "output_type": "execute_result"
    }
   ],
   "source": [
    "df.columns"
   ]
  },
  {
   "cell_type": "markdown",
   "metadata": {},
   "source": [
    "What is the shape of this DataFrame? How many columns does each row have? How many rows are there?"
   ]
  },
  {
   "cell_type": "code",
   "execution_count": 5,
   "metadata": {},
   "outputs": [
    {
     "data": {
      "text/plain": [
       "(51909, 54)"
      ]
     },
     "execution_count": 5,
     "metadata": {},
     "output_type": "execute_result"
    }
   ],
   "source": [
    "df.shape"
   ]
  },
  {
   "cell_type": "markdown",
   "metadata": {},
   "source": [
    "# HOME ZIP CODE"
   ]
  },
  {
   "cell_type": "markdown",
   "metadata": {},
   "source": [
    "Group objects using the HOME-ZIPCODE column. Assign the value to a variable called grouped_zc.  \n",
    "[Pandas Groupby User Guide](https://pandas.pydata.org/pandas-docs/stable/user_guide/groupby.html)"
   ]
  },
  {
   "cell_type": "code",
   "execution_count": 19,
   "metadata": {},
   "outputs": [],
   "source": [
    "pd.options.display.max_columns = None\n",
    "grouped_zc = df.groupby(\"HOME-ZIPCODE\")\n"
   ]
  },
  {
   "cell_type": "markdown",
   "metadata": {},
   "source": [
    "What type of object is grouped_zc?"
   ]
  },
  {
   "cell_type": "code",
   "execution_count": 20,
   "metadata": {},
   "outputs": [
    {
     "data": {
      "text/plain": [
       "pandas.core.groupby.generic.DataFrameGroupBy"
      ]
     },
     "execution_count": 20,
     "metadata": {},
     "output_type": "execute_result"
    }
   ],
   "source": [
    "type(grouped_zc)"
   ]
  },
  {
   "cell_type": "markdown",
   "metadata": {},
   "source": [
    "DataFrameGroupBy objects contain a groups attribute. Display the value of the groups attribute belonging to the grouped_zc object."
   ]
  },
  {
   "cell_type": "code",
   "execution_count": 21,
   "metadata": {},
   "outputs": [
    {
     "data": {
      "text/plain": [
       "{19801: Int64Index([    0,     1,    10,    12,    13,    15,    16,    20,    24,\n",
       "                34,\n",
       "             ...\n",
       "             51865, 51874, 51877, 51881, 51885, 51890, 51891, 51892, 51897,\n",
       "             51900],\n",
       "            dtype='int64', length=10730),\n",
       " 19802: Int64Index([    3,     5,    11,    21,    29,    30,    31,    38,    39,\n",
       "                40,\n",
       "             ...\n",
       "             51866, 51867, 51872, 51882, 51883, 51887, 51893, 51901, 51902,\n",
       "             51906],\n",
       "            dtype='int64', length=17182),\n",
       " 19805: Int64Index([    4,     6,     7,     8,    14,    17,    18,    19,    22,\n",
       "                23,\n",
       "             ...\n",
       "             51862, 51864, 51869, 51873, 51880, 51886, 51888, 51889, 51898,\n",
       "             51904],\n",
       "            dtype='int64', length=15548),\n",
       " 19806: Int64Index([    2,     9,    28,    48,    83,    96,   106,   114,   150,\n",
       "               169,\n",
       "             ...\n",
       "             51879, 51884, 51894, 51895, 51896, 51899, 51903, 51905, 51907,\n",
       "             51908],\n",
       "            dtype='int64', length=8326),\n",
       " 19807: Int64Index([  576,  3900,  3901,  3902,  3977,  4595,  5504,  5542,  7186,\n",
       "              7780,\n",
       "             ...\n",
       "             47000, 47121, 47234, 47291, 47550, 48003, 48016, 49329, 49379,\n",
       "             51310],\n",
       "            dtype='int64', length=123)}"
      ]
     },
     "execution_count": 21,
     "metadata": {},
     "output_type": "execute_result"
    }
   ],
   "source": [
    "grouped_zc.groups"
   ]
  },
  {
   "cell_type": "markdown",
   "metadata": {},
   "source": [
    "Invoke the size method on the grouped_zc object to find out how many items are associated with each zip code."
   ]
  },
  {
   "cell_type": "code",
   "execution_count": 22,
   "metadata": {},
   "outputs": [
    {
     "data": {
      "text/plain": [
       "HOME-ZIPCODE\n",
       "19801    10730\n",
       "19802    17182\n",
       "19805    15548\n",
       "19806     8326\n",
       "19807      123\n",
       "dtype: int64"
      ]
     },
     "execution_count": 22,
     "metadata": {},
     "output_type": "execute_result"
    }
   ],
   "source": [
    "size = grouped_zc.size()\n",
    "size"
   ]
  },
  {
   "cell_type": "markdown",
   "metadata": {},
   "source": [
    "Use a magic command so that matplotlib graphics will display inline."
   ]
  },
  {
   "cell_type": "code",
   "execution_count": 23,
   "metadata": {},
   "outputs": [],
   "source": [
    "%matplotlib inline"
   ]
  },
  {
   "cell_type": "markdown",
   "metadata": {},
   "source": [
    "Create a pie chart illustrating the number of voters per zip code."
   ]
  },
  {
   "cell_type": "code",
   "execution_count": 24,
   "metadata": {},
   "outputs": [
    {
     "data": {
      "text/plain": [
       "<matplotlib.axes._subplots.AxesSubplot at 0x7fc0298120d0>"
      ]
     },
     "execution_count": 24,
     "metadata": {},
     "output_type": "execute_result"
    },
    {
     "data": {
      "image/png": "[encoded data removed]",
      "text/plain": [
       "<Figure size 432x288 with 1 Axes>"
      ]
     },
     "metadata": {},
     "output_type": "display_data"
    }
   ],
   "source": [
    "size.plot.pie()"
   ]
  },
  {
   "cell_type": "markdown",
   "metadata": {},
   "source": [
    "# YEAR OF BIRTH"
   ]
  },
  {
   "cell_type": "markdown",
   "metadata": {},
   "source": [
    "Group objects by the YEAR-OF-BIRTH column. Assign the value to an object called \"grouped_yob\"."
   ]
  },
  {
   "cell_type": "code",
   "execution_count": 25,
   "metadata": {},
   "outputs": [],
   "source": [
    "grouped_yob = df.groupby(\"YEAR-OF-BIRTH\")"
   ]
  },
  {
   "cell_type": "markdown",
   "metadata": {},
   "source": [
    "Display the value of the groups attribute belonging the grouped_yob object."
   ]
  },
  {
   "cell_type": "code",
   "execution_count": 26,
   "metadata": {},
   "outputs": [
    {
     "data": {
      "text/plain": [
       "{1900: Int64Index([49249], dtype='int64'),\n",
       " 1912: Int64Index([5607], dtype='int64'),\n",
       " 1915: Int64Index([6983, 7233], dtype='int64'),\n",
       " 1916: Int64Index([2773, 16265, 49808], dtype='int64'),\n",
       " 1917: Int64Index([2425, 12614], dtype='int64'),\n",
       " 1918: Int64Index([7276, 7318, 9601, 14196], dtype='int64'),\n",
       " 1919: Int64Index([12435, 17404, 22219, 23508, 42509], dtype='int64'),\n",
       " 1920: Int64Index([  271,   350,   534,  3468,  3541,  3909,  5485,  5606,  7071,\n",
       "             13684, 14831, 15495, 17447, 22093, 24793, 24934, 26266, 27799,\n",
       "             37052, 37182, 38014, 42055, 47857],\n",
       "            dtype='int64'),\n",
       " 1921: Int64Index([  977,  1048,  1905,  3326,  4066,  7893, 12729, 14907, 16396,\n",
       "             17176, 18116, 18736, 22236, 23100, 24936, 25142, 25335, 25632,\n",
       "             26505, 26592, 28858, 37963, 39804, 41209, 48463, 49695],\n",
       "            dtype='int64'),\n",
       " 1922: Int64Index([  159,  3071,  3299,  4044,  4159,  6558,  9461, 13850, 16113,\n",
       "             16180, 16239, 18005, 20665, 22237, 25317, 30000, 32684, 35901,\n",
       "             37097, 37382, 40184, 41698, 44190, 48984, 49009, 49388, 49791,\n",
       "             50729, 51237],\n",
       "            dtype='int64'),\n",
       " 1923: Int64Index([    5,  1846,  2795,  3753,  4129,  4308,  5505,  6225,  7259,\n",
       "             13599, 14331, 14650, 15951, 16891, 18223, 18380, 22277, 22323,\n",
       "             25012, 25356, 25474, 25523, 31360, 33616, 39803, 41074, 41576,\n",
       "             41661, 41917, 42635, 43422, 49213],\n",
       "            dtype='int64'),\n",
       " 1924: Int64Index([  426,   766,  1311,  1446,  2011,  2461,  2691,  4064,  4106,\n",
       "              5589,  9460,  9525,  9530,  9825, 10355, 12192, 12265, 12710,\n",
       "             13202, 13841, 13905, 17401, 18035, 18041, 18372, 18539, 18596,\n",
       "             24338, 25261, 25543, 25547, 25602, 26287, 28944, 33438, 34072,\n",
       "             34297, 35047, 41130, 42936, 43233, 44138, 44891, 48335, 51653],\n",
       "            dtype='int64'),\n",
       " 1925: Int64Index([ 1742,  1794,  3308,  3520,  3946,  5598,  6185,  7115, 11762,\n",
       "             11955, 12642, 17261, 17808, 18061, 22203, 23899, 24330, 25419,\n",
       "             25491, 25493, 26459, 30728, 35643, 36370, 36403, 40227, 41978,\n",
       "             42076, 42155, 42858, 44706, 44854, 49620, 49747, 50785, 51474],\n",
       "            dtype='int64'),\n",
       " 1926: Int64Index([  201,   405,  1770,  3029,  3164,  3894,  3910,  4476,  4524,\n",
       "              5948,  6080,  7563, 11749, 12194, 12673, 14661, 17400, 17953,\n",
       "             17994, 18187, 18758, 19148, 19987, 24065, 24465, 24791, 25258,\n",
       "             25288, 25545, 28620, 29244, 29304, 30719, 32241, 32970, 36481,\n",
       "             36930, 37718, 39033, 39144, 39562, 40224, 41508, 41782, 41930,\n",
       "             42507, 42668, 44230, 44425, 44853, 48576, 48892],\n",
       "            dtype='int64'),\n",
       " 1927: Int64Index([  483,  1107,  1679,  2689,  2845,  3020,  3032,  3636,  3716,\n",
       "              5658,  6730,  6965,  6978,  7258,  7267,  9652,  9788, 11089,\n",
       "             11539, 11578, 11757, 12742, 13227, 13741, 13843, 14084, 16312,\n",
       "             16398, 17219, 18013, 18595, 18731, 24312, 24399, 24447, 24466,\n",
       "             25336, 25571, 30878, 31639, 32871, 33214, 34093, 34148, 35291,\n",
       "             36139, 36240, 36608, 36972, 37495, 37848, 39120, 39516, 40527,\n",
       "             41007, 41533, 41757, 42184, 42567, 42630, 42676, 42766, 44143,\n",
       "             44620, 44729, 49078],\n",
       "            dtype='int64'),\n",
       " 1928: Int64Index([  209,   445,   602,   629,   666,   936,  1170,  3021,  3022,\n",
       "              3947,  4065,  5488,  5499,  5572,  6069,  6180,  7127,  7216,\n",
       "              7302,  7332,  7376,  9532,  9719,  9727, 12312, 12544, 12577,\n",
       "             12615, 12683, 13518, 14503, 14878, 15505, 16118, 16287, 16893,\n",
       "             17077, 17567, 17842, 17910, 18077, 18544, 18720, 18954, 22110,\n",
       "             23375, 23761, 25339, 25420, 26119, 26878, 28528, 29582, 29663,\n",
       "             29983, 30613, 31513, 32159, 32588, 33382, 34444, 36428, 36525,\n",
       "             37432, 37566, 38041, 38475, 41003, 41406, 41493, 42198, 42887,\n",
       "             44542, 44545, 44616, 44785, 48374, 51067],\n",
       "            dtype='int64'),\n",
       " 1929: Int64Index([ 1077,  2450,  2510,  2582,  2847,  3119,  3232,  5446,  5779,\n",
       "              6375,  7121, 10031, 12318, 12653, 13425, 14911, 15020, 15021,\n",
       "             15159, 15435, 15487, 17995, 18024, 18070, 18084, 18197, 18217,\n",
       "             18438, 20489, 21016, 21182, 23854, 23867, 23994, 25094, 25221,\n",
       "             25494, 25561, 25598, 25789, 29064, 29247, 29606, 29835, 29942,\n",
       "             32589, 32659, 33675, 34021, 35078, 36210, 36825, 36831, 40054,\n",
       "             40197, 40920, 41008, 41072, 41781, 41981, 44819, 48785, 50003,\n",
       "             51124],\n",
       "            dtype='int64'),\n",
       " 1930: Int64Index([  130,   319,   854,   858,  1910,  2154,  3027,  3343,  4003,\n",
       "              5464,\n",
       "             ...\n",
       "             44704, 44709, 45197, 45543, 47858, 47930, 48523, 48814, 50336,\n",
       "             51250],\n",
       "            dtype='int64', length=102),\n",
       " 1931: Int64Index([  398,   601,  1395,  1514,  3028,  3844,  4310,  5314,  5826,\n",
       "              6459,\n",
       "             ...\n",
       "             42677, 42725, 43078, 43953, 44161, 44471, 44607, 45422, 47163,\n",
       "             48877],\n",
       "            dtype='int64', length=108),\n",
       " 1932: Int64Index([  101,   215,   501,  1018,  1164,  2049,  2091,  3026,  3642,\n",
       "              3804,\n",
       "             ...\n",
       "             44579, 44697, 45142, 45231, 45429, 46440, 48828, 50326, 50544,\n",
       "             50727],\n",
       "            dtype='int64', length=117),\n",
       " 1933: Int64Index([  295,   356,   547,   623,  1138,  1625,  2723,  2959,  4053,\n",
       "              4212,\n",
       "             ...\n",
       "             43526, 44008, 44035, 44705, 45038, 45210, 45362, 48491, 49856,\n",
       "             50283],\n",
       "            dtype='int64', length=123),\n",
       " 1934: Int64Index([  419,   530,   589,   780,   990,  1005,  1030,  1091,  2092,\n",
       "              2921,\n",
       "             ...\n",
       "             44627, 44769, 45057, 45107, 45232, 45844, 46808, 49163, 49953,\n",
       "             51843],\n",
       "            dtype='int64', length=172),\n",
       " 1935: Int64Index([  136,   329,   381,   676,   812,   962,  1169,  1288,  1509,\n",
       "              1528,\n",
       "             ...\n",
       "             45261, 45375, 45585, 45856, 46135, 46222, 46251, 48333, 49330,\n",
       "             51137],\n",
       "            dtype='int64', length=184),\n",
       " 1936: Int64Index([  118,   176,   243,   359,   466,  1165,  1561,  1665,  2255,\n",
       "              3009,\n",
       "             ...\n",
       "             45933, 46130, 46274, 48002, 48436, 48595, 48935, 49511, 50967,\n",
       "             50982],\n",
       "            dtype='int64', length=167),\n",
       " 1937: Int64Index([  112,   258,   344,   478,   859,  1065,  1112,  1119,  1559,\n",
       "              1707,\n",
       "             ...\n",
       "             46252, 46430, 46790, 48549, 49144, 49536, 50028, 51020, 51050,\n",
       "             51478],\n",
       "            dtype='int64', length=204),\n",
       " 1938: Int64Index([  297,   807,  1785,  2001,  2088,  2188,  2225,  2301,  2642,\n",
       "              3011,\n",
       "             ...\n",
       "             46256, 48038, 48887, 49438, 49641, 50408, 50759, 50779, 50817,\n",
       "             51005],\n",
       "            dtype='int64', length=227),\n",
       " 1939: Int64Index([    6,    29,    67,    88,   133,   179,   677,  1111,  1394,\n",
       "              1646,\n",
       "             ...\n",
       "             45463, 45835, 46132, 46398, 46796, 48692, 49104, 50228, 50737,\n",
       "             51894],\n",
       "            dtype='int64', length=232),\n",
       " 1940: Int64Index([  184,   210,   391,   513,   608,   686,   768,   888,  1057,\n",
       "              1080,\n",
       "             ...\n",
       "             48138, 49143, 49961, 50220, 50698, 50740, 50848, 51475, 51518,\n",
       "             51602],\n",
       "            dtype='int64', length=259),\n",
       " 1941: Int64Index([    7,   598,   725,   773,  1225,  1458,  1558,  1736,  1784,\n",
       "              2374,\n",
       "             ...\n",
       "             49803, 49918, 50201, 50361, 50828, 50928, 51080, 51086, 51087,\n",
       "             51726],\n",
       "            dtype='int64', length=290),\n",
       " 1942: Int64Index([  321,   670,   993,  1168,  1201,  1334,  1359,  1430,  1740,\n",
       "              2694,\n",
       "             ...\n",
       "             48762, 48963, 49002, 49754, 50596, 50741, 50826, 50957, 50979,\n",
       "             51222],\n",
       "            dtype='int64', length=349),\n",
       " 1943: Int64Index([  147,   372,   393,   427,   438,   443,   516,   614,   890,\n",
       "               960,\n",
       "             ...\n",
       "             47828, 48330, 48644, 50322, 50739, 50811, 50871, 51081, 51405,\n",
       "             51436],\n",
       "            dtype='int64', length=349),\n",
       " 1944: Int64Index([  374,   388,   413,   420,   518,   643,   810,  1166,  1180,\n",
       "              1285,\n",
       "             ...\n",
       "             47826, 49181, 50036, 50052, 50760, 51011, 51038, 51281, 51356,\n",
       "             51791],\n",
       "            dtype='int64', length=328),\n",
       " 1945: Int64Index([   43,    44,    47,   180,   181,   326,   327,   440,   533,\n",
       "               594,\n",
       "             ...\n",
       "             50738, 50761, 50812, 50816, 50844, 50870, 50991, 51066, 51070,\n",
       "             51089],\n",
       "            dtype='int64', length=359),\n",
       " 1946: Int64Index([   39,   105,   197,   322,   522,   560,   758,   921,   937,\n",
       "               996,\n",
       "             ...\n",
       "             50054, 50142, 50274, 50403, 50855, 50954, 50993, 51007, 51091,\n",
       "             51686],\n",
       "            dtype='int64', length=417),\n",
       " 1947: Int64Index([   12,    45,   135,   153,   238,   275,   549,   645,   875,\n",
       "              1082,\n",
       "             ...\n",
       "             50814, 50818, 50827, 51008, 51012, 51023, 51039, 51109, 51380,\n",
       "             51456],\n",
       "            dtype='int64', length=510),\n",
       " 1948: Int64Index([   38,   152,   183,   262,   392,   400,   415,   436,   526,\n",
       "               552,\n",
       "             ...\n",
       "             49294, 49665, 49997, 50398, 50731, 50948, 51014, 51048, 51049,\n",
       "             51810],\n",
       "            dtype='int64', length=476),\n",
       " 1949: Int64Index([   55,    57,   493,   500,   550,   627,   656,   667,   709,\n",
       "               984,\n",
       "             ...\n",
       "             50849, 50944, 50958, 50966, 51026, 51071, 51072, 51464, 51503,\n",
       "             51729],\n",
       "            dtype='int64', length=527),\n",
       " 1950: Int64Index([   77,   113,   323,   494,   506,   658,   755,   879,   922,\n",
       "               946,\n",
       "             ...\n",
       "             50951, 50983, 50998, 51015, 51065, 51088, 51183, 51348, 51586,\n",
       "             51604],\n",
       "            dtype='int64', length=574),\n",
       " 1951: Int64Index([   90,   330,   349,   363,   416,   489,   502,   587,   640,\n",
       "               735,\n",
       "             ...\n",
       "             50296, 50581, 50829, 50852, 50945, 51036, 51269, 51404, 51631,\n",
       "             51648],\n",
       "            dtype='int64', length=555),\n",
       " 1952: Int64Index([    0,    56,   140,   158,   165,   244,   335,   368,   377,\n",
       "               465,\n",
       "             ...\n",
       "             50735, 50742, 50766, 50784, 50909, 51060, 51096, 51104, 51787,\n",
       "             51905],\n",
       "            dtype='int64', length=640),\n",
       " 1953: Int64Index([  174,   242,   333,   370,   442,   467,   592,   628,   649,\n",
       "               731,\n",
       "             ...\n",
       "             50946, 51176, 51181, 51189, 51214, 51248, 51408, 51522, 51663,\n",
       "             51823],\n",
       "            dtype='int64', length=661),\n",
       " 1954: Int64Index([  132,   148,   161,   253,   274,   287,   332,   346,   348,\n",
       "               529,\n",
       "             ...\n",
       "             50972, 50977, 50992, 51073, 51103, 51144, 51342, 51357, 51501,\n",
       "             51583],\n",
       "            dtype='int64', length=665),\n",
       " 1955: Int64Index([   11,   106,   166,   234,   240,   389,   431,   491,   505,\n",
       "               508,\n",
       "             ...\n",
       "             50926, 50960, 50962, 51075, 51108, 51282, 51350, 51410, 51742,\n",
       "             51784],\n",
       "            dtype='int64', length=721),\n",
       " 1956: Int64Index([  108,   199,   219,   313,   334,   355,   360,   486,   597,\n",
       "               674,\n",
       "             ...\n",
       "             51084, 51105, 51199, 51272, 51609, 51735, 51768, 51773, 51880,\n",
       "             51902],\n",
       "            dtype='int64', length=800),\n",
       " 1957: Int64Index([   60,    98,   239,   325,   357,   371,   421,   453,   470,\n",
       "               475,\n",
       "             ...\n",
       "             50964, 50984, 50997, 51055, 51097, 51200, 51366, 51378, 51441,\n",
       "             51812],\n",
       "            dtype='int64', length=788),\n",
       " 1958: Int64Index([    3,    50,    74,   129,   138,   169,   268,   272,   279,\n",
       "               294,\n",
       "             ...\n",
       "             51013, 51051, 51063, 51074, 51093, 51213, 51443, 51692, 51753,\n",
       "             51862],\n",
       "            dtype='int64', length=787),\n",
       " 1959: Int64Index([   15,    16,    20,    36,    62,    72,   211,   236,   302,\n",
       "               385,\n",
       "             ...\n",
       "             50932, 50988, 51079, 51162, 51216, 51275, 51285, 51630, 51706,\n",
       "             51762],\n",
       "            dtype='int64', length=834),\n",
       " 1960: Int64Index([   96,   191,   198,   200,   255,   267,   320,   378,   510,\n",
       "               558,\n",
       "             ...\n",
       "             50751, 50773, 51095, 51107, 51116, 51276, 51347, 51488, 51490,\n",
       "             51824],\n",
       "            dtype='int64', length=835),\n",
       " 1961: Int64Index([   71,    82,   125,   141,   156,   168,   204,   282,   288,\n",
       "               300,\n",
       "             ...\n",
       "             51058, 51076, 51134, 51274, 51297, 51431, 51476, 51499, 51684,\n",
       "             51749],\n",
       "            dtype='int64', length=913),\n",
       " 1962: Int64Index([   32,   120,   146,   227,   249,   289,   292,   337,   444,\n",
       "               457,\n",
       "             ...\n",
       "             51241, 51255, 51361, 51429, 51442, 51701, 51720, 51839, 51848,\n",
       "             51893],\n",
       "            dtype='int64', length=860),\n",
       " 1963: Int64Index([    2,    23,    27,    53,   144,   149,   247,   261,   316,\n",
       "               345,\n",
       "             ...\n",
       "             51040, 51061, 51406, 51421, 51437, 51453, 51628, 51716, 51746,\n",
       "             51883],\n",
       "            dtype='int64', length=817),\n",
       " 1964: Int64Index([  102,   157,   160,   223,   224,   286,   306,   324,   417,\n",
       "               452,\n",
       "             ...\n",
       "             51235, 51330, 51346, 51392, 51446, 51449, 51538, 51723, 51743,\n",
       "             51778],\n",
       "            dtype='int64', length=905),\n",
       " 1965: Int64Index([   33,   121,   250,   256,   278,   285,   343,   382,   412,\n",
       "               485,\n",
       "             ...\n",
       "             51161, 51264, 51364, 51487, 51507, 51623, 51708, 51732, 51864,\n",
       "             51897],\n",
       "            dtype='int64', length=834),\n",
       " 1966: Int64Index([    8,    19,    68,    78,   194,   237,   312,   351,   375,\n",
       "               383,\n",
       "             ...\n",
       "             51102, 51225, 51233, 51541, 51584, 51606, 51617, 51858, 51898,\n",
       "             51906],\n",
       "            dtype='int64', length=854),\n",
       " 1967: Int64Index([   40,    76,   122,   128,   142,   185,   186,   196,   222,\n",
       "               228,\n",
       "             ...\n",
       "             51293, 51368, 51467, 51592, 51647, 51703, 51748, 51826, 51840,\n",
       "             51842],\n",
       "            dtype='int64', length=805),\n",
       " 1968: Int64Index([    1,    10,    80,    81,    95,   119,   175,   208,   214,\n",
       "               241,\n",
       "             ...\n",
       "             51190, 51298, 51320, 51367, 51560, 51679, 51780, 51782, 51802,\n",
       "             51813],\n",
       "            dtype='int64', length=805),\n",
       " 1969: Int64Index([   18,    84,   103,   107,   154,   163,   173,   260,   456,\n",
       "               492,\n",
       "             ...\n",
       "             51218, 51247, 51327, 51358, 51519, 51572, 51588, 51786, 51803,\n",
       "             51805],\n",
       "            dtype='int64', length=827),\n",
       " 1970: Int64Index([   22,    26,    48,    97,   115,   151,   164,   220,   246,\n",
       "               341,\n",
       "             ...\n",
       "             50794, 50808, 50975, 51077, 51167, 51204, 51516, 51531, 51696,\n",
       "             51776],\n",
       "            dtype='int64', length=807),\n",
       " 1971: Int64Index([   52,   126,   143,   178,   203,   207,   225,   230,   235,\n",
       "               280,\n",
       "             ...\n",
       "             50968, 51035, 51064, 51340, 51398, 51470, 51494, 51585, 51670,\n",
       "             51745],\n",
       "            dtype='int64', length=782),\n",
       " 1972: Int64Index([   28,    31,    51,    65,   127,   248,   315,   433,   563,\n",
       "               756,\n",
       "             ...\n",
       "             51249, 51288, 51289, 51370, 51473, 51537, 51621, 51733, 51860,\n",
       "             51866],\n",
       "            dtype='int64', length=756),\n",
       " 1973: Int64Index([   17,    70,   117,   123,   124,   283,   414,   422,   477,\n",
       "               496,\n",
       "             ...\n",
       "             50753, 50937, 50939, 51033, 51165, 51215, 51299, 51336, 51886,\n",
       "             51888],\n",
       "            dtype='int64', length=650),\n",
       " 1974: Int64Index([    9,    41,   155,   205,   217,   270,   311,   328,   406,\n",
       "               455,\n",
       "             ...\n",
       "             51025, 51032, 51351, 51372, 51413, 51492, 51514, 51562, 51831,\n",
       "             51904],\n",
       "            dtype='int64', length=723),\n",
       " 1975: Int64Index([   54,    91,   298,   358,   424,   429,   657,   661,   736,\n",
       "               980,\n",
       "             ...\n",
       "             50981, 51029, 51041, 51394, 51482, 51512, 51694, 51740, 51771,\n",
       "             51849],\n",
       "            dtype='int64', length=738),\n",
       " 1976: Int64Index([   42,    49,    89,   109,   145,   336,   352,   373,   458,\n",
       "               511,\n",
       "             ...\n",
       "             51043, 51056, 51221, 51317, 51589, 51615, 51632, 51737, 51873,\n",
       "             51895],\n",
       "            dtype='int64', length=756),\n",
       " 1977: Int64Index([   13,    35,    93,    94,   171,   182,   354,   367,   376,\n",
       "               454,\n",
       "             ...\n",
       "             51044, 51083, 51156, 51207, 51312, 51371, 51418, 51528, 51689,\n",
       "             51691],\n",
       "            dtype='int64', length=800),\n",
       " 1978: Int64Index([   30,   111,   187,   221,   266,   269,   296,   303,   342,\n",
       "               395,\n",
       "             ...\n",
       "             50859, 51234, 51273, 51337, 51374, 51447, 51460, 51731, 51806,\n",
       "             51811],\n",
       "            dtype='int64', length=936),\n",
       " 1979: Int64Index([   87,   116,   167,   202,   218,   229,   245,   361,   364,\n",
       "               403,\n",
       "             ...\n",
       "             50702, 50755, 50925, 51037, 51259, 51263, 51290, 51603, 51620,\n",
       "             51721],\n",
       "            dtype='int64', length=959),\n",
       " 1980: Int64Index([   58,    66,    92,   139,   170,   192,   193,   290,   387,\n",
       "               401,\n",
       "             ...\n",
       "             51062, 51319, 51377, 51540, 51650, 51665, 51717, 51875, 51882,\n",
       "             51887],\n",
       "            dtype='int64', length=943),\n",
       " 1981: Int64Index([    4,    25,    61,   100,   110,   190,   318,   331,   418,\n",
       "               439,\n",
       "             ...\n",
       "             51224, 51310, 51314, 51365, 51415, 51458, 51484, 51622, 51800,\n",
       "             51801],\n",
       "            dtype='int64', length=1020),\n",
       " 1982: Int64Index([   37,   162,   216,   254,   276,   314,   362,   450,   464,\n",
       "               473,\n",
       "             ...\n",
       "             51426, 51489, 51551, 51611, 51613, 51714, 51764, 51827, 51869,\n",
       "             51901],\n",
       "            dtype='int64', length=1025),\n",
       " 1983: Int64Index([   69,   131,   188,   206,   257,   263,   380,   459,   541,\n",
       "               671,\n",
       "             ...\n",
       "             51403, 51483, 51548, 51563, 51570, 51640, 51655, 51656, 51750,\n",
       "             51817],\n",
       "            dtype='int64', length=1046),\n",
       " 1984: Int64Index([   14,    24,    63,    64,   231,   232,   309,   365,   379,\n",
       "               394,\n",
       "             ...\n",
       "             51491, 51525, 51554, 51595, 51599, 51601, 51677, 51698, 51705,\n",
       "             51747],\n",
       "            dtype='int64', length=1083),\n",
       " 1985: Int64Index([   73,    75,   304,   308,   339,   554,   565,   569,   631,\n",
       "               642,\n",
       "             ...\n",
       "             51469, 51485, 51505, 51582, 51680, 51751, 51832, 51856, 51892,\n",
       "             51903],\n",
       "            dtype='int64', length=1077),\n",
       " 1986: Int64Index([   86,   137,   213,   369,   487,   515,   545,   596,   634,\n",
       "               723,\n",
       "             ...\n",
       "             51486, 51526, 51575, 51587, 51661, 51790, 51808, 51815, 51889,\n",
       "             51891],\n",
       "            dtype='int64', length=1147),\n",
       " 1987: Int64Index([   34,    59,   104,   195,   264,   265,   340,   404,   435,\n",
       "               660,\n",
       "             ...\n",
       "             51577, 51659, 51674, 51683, 51718, 51734, 51744, 51795, 51798,\n",
       "             51908],\n",
       "            dtype='int64', length=1162),\n",
       " 1988: Int64Index([   21,    46,    79,    83,    85,    99,   114,   134,   212,\n",
       "               233,\n",
       "             ...\n",
       "             51536, 51552, 51553, 51566, 51593, 51594, 51616, 51752, 51830,\n",
       "             51833],\n",
       "            dtype='int64', length=1212),\n",
       " 1989: Int64Index([  150,   172,   226,   410,   480,   503,   543,   553,   573,\n",
       "               617,\n",
       "             ...\n",
       "             51741, 51757, 51759, 51763, 51807, 51818, 51837, 51870, 51896,\n",
       "             51907],\n",
       "            dtype='int64', length=1271),\n",
       " 1990: Int64Index([  177,   189,   273,   570,   693,   702,   740,   751,   752,\n",
       "               754,\n",
       "             ...\n",
       "             51702, 51711, 51724, 51761, 51770, 51804, 51825, 51867, 51879,\n",
       "             51890],\n",
       "            dtype='int64', length=1344),\n",
       " 1991: Int64Index([  681,   684,   701,   742,   753,   883,   942,   953,  1002,\n",
       "              1032,\n",
       "             ...\n",
       "             51629, 51638, 51667, 51699, 51712, 51713, 51736, 51769, 51785,\n",
       "             51885],\n",
       "            dtype='int64', length=1275),\n",
       " 1992: Int64Index([  779,   828,   842,   856,   864,   940,   957,  1014,  1031,\n",
       "              1184,\n",
       "             ...\n",
       "             51596, 51610, 51624, 51625, 51781, 51792, 51820, 51822, 51847,\n",
       "             51884],\n",
       "            dtype='int64', length=1174),\n",
       " 1993: Int64Index([  853,   903,  1096,  1175,  1362,  1488,  1577,  1651,  1706,\n",
       "              1812,\n",
       "             ...\n",
       "             51783, 51799, 51835, 51838, 51841, 51850, 51857, 51861, 51876,\n",
       "             51900],\n",
       "            dtype='int64', length=1118),\n",
       " 1994: Int64Index([  733,   897,  1058,  1200,  1221,  1227,  1371,  1412,  1717,\n",
       "              1982,\n",
       "             ...\n",
       "             51645, 51728, 51789, 51809, 51819, 51828, 51854, 51855, 51878,\n",
       "             51899],\n",
       "            dtype='int64', length=1003),\n",
       " 1995: Int64Index([  730,  1752,  7922,  7923,  7924,  7928,  7943,  7945,  7954,\n",
       "              7956,\n",
       "             ...\n",
       "             51568, 51571, 51641, 51644, 51657, 51671, 51690, 51767, 51814,\n",
       "             51863],\n",
       "            dtype='int64', length=879),\n",
       " 1996: Int64Index([ 3562,  7925,  7926,  7930,  7935,  7936,  7938,  7939,  7942,\n",
       "              7952,\n",
       "             ...\n",
       "             51707, 51779, 51794, 51829, 51834, 51844, 51851, 51853, 51871,\n",
       "             51877],\n",
       "            dtype='int64', length=791),\n",
       " 1997: Int64Index([  714,   721,  4121,  9817,  9820,  9835,  9849,  9878,  9879,\n",
       "              9882,\n",
       "             ...\n",
       "             51627, 51643, 51658, 51660, 51676, 51693, 51738, 51755, 51760,\n",
       "             51868],\n",
       "            dtype='int64', length=791),\n",
       " 1998: Int64Index([ 7480,  9288,  9510,  9813,  9814,  9815,  9818,  9819,  9821,\n",
       "              9822,\n",
       "             ...\n",
       "             51423, 51550, 51565, 51618, 51725, 51772, 51777, 51788, 51796,\n",
       "             51816],\n",
       "            dtype='int64', length=786),\n",
       " 1999: Int64Index([  697,  2664,  2853,  7902,  9221,  9342,  9853, 10253, 10267,\n",
       "             11562,\n",
       "             ...\n",
       "             51424, 51455, 51496, 51600, 51612, 51651, 51793, 51852, 51865,\n",
       "             51874],\n",
       "            dtype='int64', length=719),\n",
       " 2000: Int64Index([  689,  4355,  4536,  9358, 11523, 12779, 12790, 12804, 12855,\n",
       "             12865,\n",
       "             ...\n",
       "             51497, 51523, 51573, 51580, 51614, 51722, 51727, 51754, 51821,\n",
       "             51845],\n",
       "            dtype='int64', length=717),\n",
       " 2001: Int64Index([ 1943,  4509,  9850,  9913, 20669, 20717, 20739, 20747, 28796,\n",
       "             32732,\n",
       "             ...\n",
       "             51688, 51700, 51730, 51739, 51758, 51775, 51797, 51846, 51872,\n",
       "             51881],\n",
       "            dtype='int64', length=575),\n",
       " 2002: Int64Index([ 3667,  9228, 13551, 20720, 20726, 20742, 20749, 23413, 28706,\n",
       "             28787,\n",
       "             ...\n",
       "             51544, 51608, 51695, 51697, 51709, 51715, 51766, 51774, 51836,\n",
       "             51859],\n",
       "            dtype='int64', length=395)}"
      ]
     },
     "execution_count": 26,
     "metadata": {},
     "output_type": "execute_result"
    }
   ],
   "source": [
    "grouped_yob.groups"
   ]
  },
  {
   "cell_type": "markdown",
   "metadata": {},
   "source": [
    "Select the object for the row indicating that the voter was born in 1900."
   ]
  },
  {
   "cell_type": "code",
   "execution_count": 27,
   "metadata": {},
   "outputs": [
    {
     "data": {
      "text/html": [
       "<div>\n",
       "<style scoped>\n",
       "    .dataframe tbody tr th:only-of-type {\n",
       "        vertical-align: middle;\n",
       "    }\n",
       "\n",
       "    .dataframe tbody tr th {\n",
       "        vertical-align: top;\n",
       "    }\n",
       "\n",
       "    .dataframe thead th {\n",
       "        text-align: right;\n",
       "    }\n",
       "</style>\n",
       "<table border=\"1\" class=\"dataframe\">\n",
       "  <thead>\n",
       "    <tr style=\"text-align: right;\">\n",
       "      <th></th>\n",
       "      <th>UNIQUE-ID</th>\n",
       "      <th>LAST-NAME</th>\n",
       "      <th>FIRST-NAME</th>\n",
       "      <th>MID-INIT</th>\n",
       "      <th>SUFFIX</th>\n",
       "      <th>YEAR-OF-BIRTH</th>\n",
       "      <th>HOME-NO</th>\n",
       "      <th>HOME-APT</th>\n",
       "      <th>HOME-STREET</th>\n",
       "      <th>HOME-DEV</th>\n",
       "      <th>HOME-CITY</th>\n",
       "      <th>HOME-ZIPCODE</th>\n",
       "      <th>COUNTY</th>\n",
       "      <th>ED</th>\n",
       "      <th>RD</th>\n",
       "      <th>SD</th>\n",
       "      <th>CNLEVY</th>\n",
       "      <th>WILM</th>\n",
       "      <th>CODE-HOME-CITY</th>\n",
       "      <th>SCH-DIST</th>\n",
       "      <th>PARTY</th>\n",
       "      <th>DATE-REG</th>\n",
       "      <th>PP-HIST-1</th>\n",
       "      <th>PP-HIST-2</th>\n",
       "      <th>PR-HIST-1</th>\n",
       "      <th>PR-HIST-2</th>\n",
       "      <th>PR-HIST-3</th>\n",
       "      <th>GEN-HIST-1</th>\n",
       "      <th>GEN-HIST-2</th>\n",
       "      <th>GEN-HIST-3</th>\n",
       "      <th>GEN-HIST-4</th>\n",
       "      <th>GEN-HIST-5</th>\n",
       "      <th>SP-HIST-1</th>\n",
       "      <th>SP-HIST-2</th>\n",
       "      <th>SP-HIST-3</th>\n",
       "      <th>SCHL-HIST-1</th>\n",
       "      <th>SCHL-HIST-2</th>\n",
       "      <th>SCHL-HIST-3</th>\n",
       "      <th>SCHL-HIST-4</th>\n",
       "      <th>SCHL-HIST-5</th>\n",
       "      <th>REF-HIST-1</th>\n",
       "      <th>REF-HIST-2</th>\n",
       "      <th>REF-HIST-3</th>\n",
       "      <th>REF-HIST-4</th>\n",
       "      <th>REF-HIST-5</th>\n",
       "      <th>MAIL-NO</th>\n",
       "      <th>MAIL-APT</th>\n",
       "      <th>MAIL-STR</th>\n",
       "      <th>MAIL-CITY</th>\n",
       "      <th>MAIL-STATE</th>\n",
       "      <th>MAIL-ZIP</th>\n",
       "      <th>DATE-LAST-CHG</th>\n",
       "      <th>CODE-CHANGE</th>\n",
       "      <th>STATUS</th>\n",
       "    </tr>\n",
       "  </thead>\n",
       "  <tbody>\n",
       "    <tr>\n",
       "      <th>49249</th>\n",
       "      <td>101092654</td>\n",
       "      <td>KENNEDY</td>\n",
       "      <td>JORDAN</td>\n",
       "      <td>D</td>\n",
       "      <td>NaN</td>\n",
       "      <td>1900</td>\n",
       "      <td>724</td>\n",
       "      <td>NaN</td>\n",
       "      <td>N BANCROFT PKY</td>\n",
       "      <td>NaN</td>\n",
       "      <td>WILMINGTON</td>\n",
       "      <td>19805</td>\n",
       "      <td>N</td>\n",
       "      <td>2</td>\n",
       "      <td>3</td>\n",
       "      <td>3</td>\n",
       "      <td>10</td>\n",
       "      <td>7</td>\n",
       "      <td>NaN</td>\n",
       "      <td>RC</td>\n",
       "      <td>I</td>\n",
       "      <td>20161114</td>\n",
       "      <td>0</td>\n",
       "      <td>0</td>\n",
       "      <td>0</td>\n",
       "      <td>0</td>\n",
       "      <td>0</td>\n",
       "      <td>0</td>\n",
       "      <td>0</td>\n",
       "      <td>0</td>\n",
       "      <td>0</td>\n",
       "      <td>0</td>\n",
       "      <td>NaN</td>\n",
       "      <td>NaN</td>\n",
       "      <td>NaN</td>\n",
       "      <td>NaN</td>\n",
       "      <td>NaN</td>\n",
       "      <td>NaN</td>\n",
       "      <td>NaN</td>\n",
       "      <td>NaN</td>\n",
       "      <td>NaN</td>\n",
       "      <td>NaN</td>\n",
       "      <td>NaN</td>\n",
       "      <td>NaN</td>\n",
       "      <td>NaN</td>\n",
       "      <td>NaN</td>\n",
       "      <td>NaN</td>\n",
       "      <td>NaN</td>\n",
       "      <td>NaN</td>\n",
       "      <td>NaN</td>\n",
       "      <td>NaN</td>\n",
       "      <td>20170731</td>\n",
       "      <td>P6</td>\n",
       "      <td>I</td>\n",
       "    </tr>\n",
       "  </tbody>\n",
       "</table>\n",
       "</div>"
      ],
      "text/plain": [
       "       UNIQUE-ID LAST-NAME FIRST-NAME MID-INIT SUFFIX  YEAR-OF-BIRTH HOME-NO  \\\n",
       "49249  101092654   KENNEDY     JORDAN        D    NaN           1900     724   \n",
       "\n",
       "      HOME-APT     HOME-STREET HOME-DEV   HOME-CITY  HOME-ZIPCODE COUNTY  ED  \\\n",
       "49249      NaN  N BANCROFT PKY      NaN  WILMINGTON         19805      N   2   \n",
       "\n",
       "       RD  SD  CNLEVY  WILM CODE-HOME-CITY SCH-DIST PARTY  DATE-REG  \\\n",
       "49249   3   3      10     7            NaN       RC     I  20161114   \n",
       "\n",
       "       PP-HIST-1  PP-HIST-2  PR-HIST-1  PR-HIST-2  PR-HIST-3  GEN-HIST-1  \\\n",
       "49249          0          0          0          0          0           0   \n",
       "\n",
       "       GEN-HIST-2  GEN-HIST-3  GEN-HIST-4  GEN-HIST-5 SP-HIST-1  SP-HIST-2  \\\n",
       "49249           0           0           0           0       NaN        NaN   \n",
       "\n",
       "       SP-HIST-3 SCHL-HIST-1 SCHL-HIST-2 SCHL-HIST-3  SCHL-HIST-4  \\\n",
       "49249        NaN         NaN         NaN         NaN          NaN   \n",
       "\n",
       "       SCHL-HIST-5 REF-HIST-1 REF-HIST-2 REF-HIST-3  REF-HIST-4  REF-HIST-5  \\\n",
       "49249          NaN        NaN        NaN        NaN         NaN         NaN   \n",
       "\n",
       "      MAIL-NO MAIL-APT MAIL-STR MAIL-CITY MAIL-STATE  MAIL-ZIP  DATE-LAST-CHG  \\\n",
       "49249     NaN      NaN      NaN       NaN        NaN       NaN       20170731   \n",
       "\n",
       "      CODE-CHANGE STATUS  \n",
       "49249          P6      I  "
      ]
     },
     "execution_count": 27,
     "metadata": {},
     "output_type": "execute_result"
    }
   ],
   "source": [
    "df.loc[df['YEAR-OF-BIRTH'] == 1900 ]"
   ]
  },
  {
   "cell_type": "markdown",
   "metadata": {},
   "source": [
    "Graph a histogram to  illustrate the age distribution of voters in this dataset. Ty using different values for the bins attribute of the histogram. "
   ]
  },
  {
   "cell_type": "code",
   "execution_count": 29,
   "metadata": {},
   "outputs": [
    {
     "data": {
      "text/plain": [
       "<matplotlib.axes._subplots.AxesSubplot at 0x7fc02abeb370>"
      ]
     },
     "execution_count": 29,
     "metadata": {},
     "output_type": "execute_result"
    },
    {
     "data": {
      "image/png": "[encoded data removed]",
      "text/plain": [
       "<Figure size 432x288 with 1 Axes>"
      ]
     },
     "metadata": {
      "needs_background": "light"
     },
     "output_type": "display_data"
    }
   ],
   "source": [
    "df['YEAR-OF-BIRTH'].hist(bins = 50)"
   ]
  },
  {
   "cell_type": "markdown",
   "metadata": {},
   "source": [
    "# PARTY"
   ]
  },
  {
   "cell_type": "markdown",
   "metadata": {},
   "source": [
    "Group objects using the PARTY column. Assign the value to a variable called grouped_p."
   ]
  },
  {
   "cell_type": "code",
   "execution_count": 30,
   "metadata": {},
   "outputs": [],
   "source": [
    "grouped_p = df.groupby(\"PARTY\")"
   ]
  },
  {
   "cell_type": "markdown",
   "metadata": {},
   "source": [
    "Display the value of the groups attribute belonging to the grouped_p object."
   ]
  },
  {
   "cell_type": "code",
   "execution_count": 31,
   "metadata": {},
   "outputs": [
    {
     "data": {
      "text/plain": [
       "{'A': Int64Index([ 2578,  2639,  3108,  5105, 10230, 10491, 10842, 11620, 12162,\n",
       "             12413, 12417, 12454, 12507, 12522, 12810, 12831, 14469, 14507,\n",
       "             15144, 15382, 15509, 16858, 17075, 17173, 17309, 19466, 19884,\n",
       "             20846, 21086, 21459, 22451, 22645, 22746, 23739, 24604, 24664,\n",
       "             24665, 24691, 26662, 28775, 30455, 30510, 30976, 34065, 34903,\n",
       "             36518, 44984, 45851, 46837, 49699, 51736, 51830],\n",
       "            dtype='int64'),\n",
       " 'B': Int64Index([11866, 11867, 11869, 11870, 11873, 11875, 11876, 11880, 11882,\n",
       "             11883,\n",
       "             ...\n",
       "             50153, 50167, 50172, 50176, 50211, 50246, 50339, 50340, 50343,\n",
       "             50469],\n",
       "            dtype='int64', length=441),\n",
       " 'D': Int64Index([    1,     3,     4,     5,     6,    10,    11,    12,    16,\n",
       "                17,\n",
       "             ...\n",
       "             51896, 51897, 51898, 51899, 51901, 51902, 51904, 51905, 51906,\n",
       "             51907],\n",
       "            dtype='int64', length=38020),\n",
       " 'E': Int64Index([  346,  4768,  4980,  5216,  7651,  8165,  9912, 10745, 11241,\n",
       "             18359, 19693, 19871, 20848, 23562, 25301, 25880, 28786, 32452,\n",
       "             32612, 33925, 36659, 36936, 38262, 40198, 46582, 47321, 49618,\n",
       "             50330, 51613, 51828],\n",
       "            dtype='int64'),\n",
       " 'G': Int64Index([ 4868,  7001,  9420, 12620, 16999, 17956, 20719, 22322, 22435,\n",
       "             22692, 25423, 26657, 28772, 31156, 31402, 32840, 34850, 34874,\n",
       "             34924, 37189, 37259, 38140, 40614, 40870, 40894, 41264, 42067,\n",
       "             42203, 42367, 42627, 42721, 42724, 44717, 45014, 45254, 45564,\n",
       "             46574, 47761, 47816, 49280, 49782, 50723],\n",
       "            dtype='int64'),\n",
       " 'H': Int64Index([   51,  1218,  1332,  3885,  4825,  5175,  6112,  6970,  8491,\n",
       "              9899, 10138, 10651, 11316, 11781, 11822, 11850, 11894, 11897,\n",
       "             11907, 11993, 12036, 12086, 12113, 12569, 13189, 13715, 14162,\n",
       "             14372, 15190, 15297, 15441, 16208, 16268, 16310, 17932, 18349,\n",
       "             18562, 18822, 19450, 20370, 21234, 21518, 22168, 22317, 22399,\n",
       "             22519, 22631, 23177, 23697, 25410, 25648, 27054, 27913, 29533,\n",
       "             29624, 29691, 33573, 33694, 33752, 36705, 37587, 38442, 38605,\n",
       "             38783, 39129, 39130, 39408, 40202, 42170, 43346, 48875, 49171,\n",
       "             49424, 49629, 49837, 49867, 49900, 49967, 50866, 51040, 51196,\n",
       "             51312],\n",
       "            dtype='int64'),\n",
       " 'I': Int64Index([    0,     7,     9,    14,    15,    26,    28,    30,    31,\n",
       "                37,\n",
       "             ...\n",
       "             51875, 51877, 51885, 51886, 51888, 51889, 51894, 51900, 51903,\n",
       "             51908],\n",
       "            dtype='int64', length=7670),\n",
       " 'J': Int64Index([  197,   988,  1057,  1111,  1177,  1203,  1321,  1422,  1457,\n",
       "              1493,\n",
       "             ...\n",
       "             49392, 49438, 49589, 49842, 50038, 50133, 50347, 50468, 50528,\n",
       "             51030],\n",
       "            dtype='int64', length=161),\n",
       " 'L': Int64Index([ 1157,  1232,  2320,  2654,  4048,  4088,  4475,  4587,  5258,\n",
       "              6701,  7197,  7277,  7331,  9063,  9266,  9452,  9785, 10870,\n",
       "             11035, 11091, 11709, 12016, 12019, 12076, 12603, 13161, 13166,\n",
       "             15164, 16994, 17186, 17415, 17969, 18401, 18499, 19539, 19596,\n",
       "             19722, 20340, 20748, 20783, 21441, 22534, 23051, 23458, 23741,\n",
       "             24172, 26616, 28185, 28907, 28908, 29029, 31081, 31122, 31451,\n",
       "             33122, 33326, 33571, 34868, 35953, 36616, 37354, 38083, 38485,\n",
       "             38538, 39651, 39703, 39757, 39983, 41323, 41435, 42556, 42997,\n",
       "             43620, 43739, 43993, 44877, 44963, 45010, 45460, 45477, 45499,\n",
       "             45866, 45964, 46251, 46779, 47745, 47817, 47892, 48816, 49272,\n",
       "             49595, 49736, 49792, 49807, 50178, 51570, 51601, 51829],\n",
       "            dtype='int64'),\n",
       " 'M': Int64Index([19128], dtype='int64'),\n",
       " 'O': Int64Index([   60,   321,  1086,  1631,  1743,  3426,  3863,  6030,  7798,\n",
       "              9304, 11959, 12143, 12901, 13046, 13344, 16985, 19607, 22474,\n",
       "             25901, 26947, 31469, 32243, 33930, 34644, 35459, 35919, 38177,\n",
       "             39573, 41553, 48281, 49440, 49946, 50693],\n",
       "            dtype='int64'),\n",
       " 'Q': Int64Index([ 1754,  2100,  2186,  2268,  6903,  7723,  8701,  9631,  9722,\n",
       "             12860, 13249, 14833, 22175, 22248, 22382, 45539, 51790],\n",
       "            dtype='int64'),\n",
       " 'R': Int64Index([    2,     8,    13,    18,    25,    34,    36,    38,    45,\n",
       "                80,\n",
       "             ...\n",
       "             51803, 51817, 51837, 51839, 51842, 51847, 51874, 51876, 51879,\n",
       "             51884],\n",
       "            dtype='int64', length=4851),\n",
       " 'T': Int64Index([ 3200, 16195, 18075, 18799, 22522, 22532, 29766, 40839, 43506,\n",
       "             44165, 46817, 47328, 48734, 50254],\n",
       "            dtype='int64'),\n",
       " 'V': Int64Index([630, 924, 4198, 4565, 10571, 11786, 15825, 35313, 39086, 39138,\n",
       "             48731],\n",
       "            dtype='int64'),\n",
       " 'W': Int64Index([  970,  1109,  1291,  1601,  1891,  1992,  2565,  2577,  3003,\n",
       "              3081,\n",
       "             ...\n",
       "             50745, 51361, 51446, 51527, 51630, 51660, 51758, 51816, 51827,\n",
       "             51849],\n",
       "            dtype='int64', length=333),\n",
       " 'Y': Int64Index([ 4214,  4523,  7697, 15109, 17347, 17730, 20621, 22247, 36423,\n",
       "             36558, 37972, 39522, 41694, 42009],\n",
       "            dtype='int64'),\n",
       " 'Z': Int64Index([ 2543,  3173,  3808,  3859,  4396,  4427,  5196,  6212,  6771,\n",
       "              7214,  9171,  9587, 10835, 11789, 14983, 16487, 17079, 17305,\n",
       "             18066, 20592, 20703, 21712, 22172, 22190, 22192, 22193, 22194,\n",
       "             27240, 28166, 28219, 32778, 32790, 34659, 34940, 35094, 46002,\n",
       "             48316, 49053, 49817],\n",
       "            dtype='int64')}"
      ]
     },
     "execution_count": 31,
     "metadata": {},
     "output_type": "execute_result"
    }
   ],
   "source": [
    "grouped_p.groups"
   ]
  },
  {
   "cell_type": "markdown",
   "metadata": {},
   "source": [
    "Invoke the size method on the grouped_p object to find out how many items are associated with each party."
   ]
  },
  {
   "cell_type": "code",
   "execution_count": 32,
   "metadata": {
    "scrolled": true
   },
   "outputs": [
    {
     "data": {
      "text/plain": [
       "PARTY\n",
       "A       52\n",
       "B      441\n",
       "D    38020\n",
       "E       30\n",
       "G       42\n",
       "H       82\n",
       "I     7670\n",
       "J      161\n",
       "L       98\n",
       "M        1\n",
       "O       33\n",
       "Q       17\n",
       "R     4851\n",
       "T       14\n",
       "V       11\n",
       "W      333\n",
       "Y       14\n",
       "Z       39\n",
       "dtype: int64"
      ]
     },
     "execution_count": 32,
     "metadata": {},
     "output_type": "execute_result"
    }
   ],
   "source": [
    "grouped_p.size()"
   ]
  },
  {
   "cell_type": "markdown",
   "metadata": {},
   "source": [
    "Create a bar chart to visualize the number of voters associated with each party."
   ]
  },
  {
   "cell_type": "code",
   "execution_count": 36,
   "metadata": {},
   "outputs": [
    {
     "data": {
      "text/plain": [
       "<matplotlib.axes._subplots.AxesSubplot at 0x7fc005e875b0>"
      ]
     },
     "execution_count": 36,
     "metadata": {},
     "output_type": "execute_result"
    },
    {
     "data": {
      "image/png": "[encoded data removed]",
      "text/plain": [
       "<Figure size 432x288 with 1 Axes>"
      ]
     },
     "metadata": {
      "needs_background": "light"
     },
     "output_type": "display_data"
    }
   ],
   "source": [
    "grouped_p.size().plot.bar()"
   ]
  },
  {
   "cell_type": "markdown",
   "metadata": {},
   "source": [
    "# Merging Two DataFrames"
   ]
  },
  {
   "cell_type": "markdown",
   "metadata": {},
   "source": [
    "Using the data from the documentation, create a Pandas DataFrame that contains the party code and the corresponding legal name for each party."
   ]
  },
  {
   "cell_type": "code",
   "execution_count": 38,
   "metadata": {},
   "outputs": [],
   "source": [
    "legal_names = {\n",
    "    'A': 'AMERICAN',\n",
    "    'B': 'AMERICAN DELTA',\n",
    "    'D': 'DEMOCRATIC PARTY',\n",
    "    'E': 'LIBERAL',\n",
    "    'G': 'NON PARTISAN',\n",
    "    'H': 'GREEN PARTY',\n",
    "    'I': 'UNAFFILIATED',\n",
    "    'J': 'WORKING FAMILIES PARTY',\n",
    "    'L': 'LIBERTARIAN PARTY',\n",
    "    'M': 'REFORM PARTY',\n",
    "    'O': 'OTHERS/ALL OTHER PARTIES',\n",
    "    'Q': 'CONSTITUTION PARTY',\n",
    "    'R': 'REPUBLICAN PARTY',\n",
    "    'T': 'CONSERVATIVE',\n",
    "    'V': 'NATURAL LAW PARTY',\n",
    "    'W': 'INDEPENDENT PARTY OF DEL',\n",
    "    'Y': 'THE BLUE ENIGMA PARTY',\n",
    "    'Z': 'SOCIALIST WORKERS PARTY',\n",
    "}\n"
   ]
  },
  {
   "cell_type": "code",
   "execution_count": 52,
   "metadata": {},
   "outputs": [],
   "source": [
    "df_legal_names = pd.DataFrame(legal_names.items(), columns=['Party Code', \"Legal Name\"])"
   ]
  },
  {
   "cell_type": "code",
   "execution_count": 53,
   "metadata": {},
   "outputs": [
    {
     "data": {
      "text/html": [
       "<div>\n",
       "<style scoped>\n",
       "    .dataframe tbody tr th:only-of-type {\n",
       "        vertical-align: middle;\n",
       "    }\n",
       "\n",
       "    .dataframe tbody tr th {\n",
       "        vertical-align: top;\n",
       "    }\n",
       "\n",
       "    .dataframe thead th {\n",
       "        text-align: right;\n",
       "    }\n",
       "</style>\n",
       "<table border=\"1\" class=\"dataframe\">\n",
       "  <thead>\n",
       "    <tr style=\"text-align: right;\">\n",
       "      <th></th>\n",
       "      <th>Party Code</th>\n",
       "      <th>Legal Name</th>\n",
       "    </tr>\n",
       "  </thead>\n",
       "  <tbody>\n",
       "    <tr>\n",
       "      <th>0</th>\n",
       "      <td>A</td>\n",
       "      <td>AMERICAN</td>\n",
       "    </tr>\n",
       "    <tr>\n",
       "      <th>1</th>\n",
       "      <td>B</td>\n",
       "      <td>AMERICAN DELTA</td>\n",
       "    </tr>\n",
       "    <tr>\n",
       "      <th>2</th>\n",
       "      <td>D</td>\n",
       "      <td>DEMOCRATIC PARTY</td>\n",
       "    </tr>\n",
       "    <tr>\n",
       "      <th>3</th>\n",
       "      <td>E</td>\n",
       "      <td>LIBERAL</td>\n",
       "    </tr>\n",
       "    <tr>\n",
       "      <th>4</th>\n",
       "      <td>G</td>\n",
       "      <td>NON PARTISAN</td>\n",
       "    </tr>\n",
       "    <tr>\n",
       "      <th>5</th>\n",
       "      <td>H</td>\n",
       "      <td>GREEN PARTY</td>\n",
       "    </tr>\n",
       "    <tr>\n",
       "      <th>6</th>\n",
       "      <td>I</td>\n",
       "      <td>UNAFFILIATED</td>\n",
       "    </tr>\n",
       "    <tr>\n",
       "      <th>7</th>\n",
       "      <td>J</td>\n",
       "      <td>WORKING FAMILIES PARTY</td>\n",
       "    </tr>\n",
       "    <tr>\n",
       "      <th>8</th>\n",
       "      <td>L</td>\n",
       "      <td>LIBERTARIAN PARTY</td>\n",
       "    </tr>\n",
       "    <tr>\n",
       "      <th>9</th>\n",
       "      <td>M</td>\n",
       "      <td>REFORM PARTY</td>\n",
       "    </tr>\n",
       "    <tr>\n",
       "      <th>10</th>\n",
       "      <td>O</td>\n",
       "      <td>OTHERS/ALL OTHER PARTIES</td>\n",
       "    </tr>\n",
       "    <tr>\n",
       "      <th>11</th>\n",
       "      <td>Q</td>\n",
       "      <td>CONSTITUTION PARTY</td>\n",
       "    </tr>\n",
       "    <tr>\n",
       "      <th>12</th>\n",
       "      <td>R</td>\n",
       "      <td>REPUBLICAN PARTY</td>\n",
       "    </tr>\n",
       "    <tr>\n",
       "      <th>13</th>\n",
       "      <td>T</td>\n",
       "      <td>CONSERVATIVE</td>\n",
       "    </tr>\n",
       "    <tr>\n",
       "      <th>14</th>\n",
       "      <td>V</td>\n",
       "      <td>NATURAL LAW PARTY</td>\n",
       "    </tr>\n",
       "    <tr>\n",
       "      <th>15</th>\n",
       "      <td>W</td>\n",
       "      <td>INDEPENDENT PARTY OF DEL</td>\n",
       "    </tr>\n",
       "    <tr>\n",
       "      <th>16</th>\n",
       "      <td>Y</td>\n",
       "      <td>THE BLUE ENIGMA PARTY</td>\n",
       "    </tr>\n",
       "    <tr>\n",
       "      <th>17</th>\n",
       "      <td>Z</td>\n",
       "      <td>SOCIALIST WORKERS PARTY</td>\n",
       "    </tr>\n",
       "  </tbody>\n",
       "</table>\n",
       "</div>"
      ],
      "text/plain": [
       "   Party Code                Legal Name\n",
       "0           A                  AMERICAN\n",
       "1           B            AMERICAN DELTA\n",
       "2           D          DEMOCRATIC PARTY\n",
       "3           E                   LIBERAL\n",
       "4           G              NON PARTISAN\n",
       "5           H               GREEN PARTY\n",
       "6           I              UNAFFILIATED\n",
       "7           J    WORKING FAMILIES PARTY\n",
       "8           L         LIBERTARIAN PARTY\n",
       "9           M              REFORM PARTY\n",
       "10          O  OTHERS/ALL OTHER PARTIES\n",
       "11          Q        CONSTITUTION PARTY\n",
       "12          R          REPUBLICAN PARTY\n",
       "13          T              CONSERVATIVE\n",
       "14          V         NATURAL LAW PARTY\n",
       "15          W  INDEPENDENT PARTY OF DEL\n",
       "16          Y     THE BLUE ENIGMA PARTY\n",
       "17          Z   SOCIALIST WORKERS PARTY"
      ]
     },
     "execution_count": 53,
     "metadata": {},
     "output_type": "execute_result"
    }
   ],
   "source": [
    "df_legal_names"
   ]
  },
  {
   "cell_type": "markdown",
   "metadata": {},
   "source": [
    "Create a Pandas DataFrame that contains the Party code and the corresponding number of registered voters for said party."
   ]
  },
  {
   "cell_type": "code",
   "execution_count": 79,
   "metadata": {},
   "outputs": [
    {
     "data": {
      "text/plain": [
       "D    38020\n",
       "I     7670\n",
       "R     4851\n",
       "B      441\n",
       "W      333\n",
       "J      161\n",
       "L       98\n",
       "H       82\n",
       "A       52\n",
       "G       42\n",
       "Z       39\n",
       "O       33\n",
       "E       30\n",
       "Q       17\n",
       "Y       14\n",
       "T       14\n",
       "V       11\n",
       "M        1\n",
       "Name: PARTY, dtype: int64"
      ]
     },
     "execution_count": 79,
     "metadata": {},
     "output_type": "execute_result"
    }
   ],
   "source": [
    "# Create DataFrame df_party_counts here \n",
    "df_party_counts = df['PARTY'].value_counts()\n",
    "df_party_counts"
   ]
  },
  {
   "cell_type": "code",
   "execution_count": 84,
   "metadata": {},
   "outputs": [
    {
     "data": {
      "text/html": [
       "<div>\n",
       "<style scoped>\n",
       "    .dataframe tbody tr th:only-of-type {\n",
       "        vertical-align: middle;\n",
       "    }\n",
       "\n",
       "    .dataframe tbody tr th {\n",
       "        vertical-align: top;\n",
       "    }\n",
       "\n",
       "    .dataframe thead th {\n",
       "        text-align: right;\n",
       "    }\n",
       "</style>\n",
       "<table border=\"1\" class=\"dataframe\">\n",
       "  <thead>\n",
       "    <tr style=\"text-align: right;\">\n",
       "      <th></th>\n",
       "      <th>Party Code</th>\n",
       "      <th>Count</th>\n",
       "    </tr>\n",
       "  </thead>\n",
       "  <tbody>\n",
       "    <tr>\n",
       "      <th>0</th>\n",
       "      <td>D</td>\n",
       "      <td>38020</td>\n",
       "    </tr>\n",
       "    <tr>\n",
       "      <th>1</th>\n",
       "      <td>I</td>\n",
       "      <td>7670</td>\n",
       "    </tr>\n",
       "    <tr>\n",
       "      <th>2</th>\n",
       "      <td>R</td>\n",
       "      <td>4851</td>\n",
       "    </tr>\n",
       "    <tr>\n",
       "      <th>3</th>\n",
       "      <td>B</td>\n",
       "      <td>441</td>\n",
       "    </tr>\n",
       "    <tr>\n",
       "      <th>4</th>\n",
       "      <td>W</td>\n",
       "      <td>333</td>\n",
       "    </tr>\n",
       "    <tr>\n",
       "      <th>5</th>\n",
       "      <td>J</td>\n",
       "      <td>161</td>\n",
       "    </tr>\n",
       "    <tr>\n",
       "      <th>6</th>\n",
       "      <td>L</td>\n",
       "      <td>98</td>\n",
       "    </tr>\n",
       "    <tr>\n",
       "      <th>7</th>\n",
       "      <td>H</td>\n",
       "      <td>82</td>\n",
       "    </tr>\n",
       "    <tr>\n",
       "      <th>8</th>\n",
       "      <td>A</td>\n",
       "      <td>52</td>\n",
       "    </tr>\n",
       "    <tr>\n",
       "      <th>9</th>\n",
       "      <td>G</td>\n",
       "      <td>42</td>\n",
       "    </tr>\n",
       "    <tr>\n",
       "      <th>10</th>\n",
       "      <td>Z</td>\n",
       "      <td>39</td>\n",
       "    </tr>\n",
       "    <tr>\n",
       "      <th>11</th>\n",
       "      <td>O</td>\n",
       "      <td>33</td>\n",
       "    </tr>\n",
       "    <tr>\n",
       "      <th>12</th>\n",
       "      <td>E</td>\n",
       "      <td>30</td>\n",
       "    </tr>\n",
       "    <tr>\n",
       "      <th>13</th>\n",
       "      <td>Q</td>\n",
       "      <td>17</td>\n",
       "    </tr>\n",
       "    <tr>\n",
       "      <th>14</th>\n",
       "      <td>Y</td>\n",
       "      <td>14</td>\n",
       "    </tr>\n",
       "    <tr>\n",
       "      <th>15</th>\n",
       "      <td>T</td>\n",
       "      <td>14</td>\n",
       "    </tr>\n",
       "    <tr>\n",
       "      <th>16</th>\n",
       "      <td>V</td>\n",
       "      <td>11</td>\n",
       "    </tr>\n",
       "    <tr>\n",
       "      <th>17</th>\n",
       "      <td>M</td>\n",
       "      <td>1</td>\n",
       "    </tr>\n",
       "  </tbody>\n",
       "</table>\n",
       "</div>"
      ],
      "text/plain": [
       "   Party Code  Count\n",
       "0           D  38020\n",
       "1           I   7670\n",
       "2           R   4851\n",
       "3           B    441\n",
       "4           W    333\n",
       "5           J    161\n",
       "6           L     98\n",
       "7           H     82\n",
       "8           A     52\n",
       "9           G     42\n",
       "10          Z     39\n",
       "11          O     33\n",
       "12          E     30\n",
       "13          Q     17\n",
       "14          Y     14\n",
       "15          T     14\n",
       "16          V     11\n",
       "17          M      1"
      ]
     },
     "execution_count": 84,
     "metadata": {},
     "output_type": "execute_result"
    }
   ],
   "source": [
    "df_party_counts = df_party_counts.to_frame().reset_index()\n",
    "df_party_counts.columns = ['Party Code', \"Count\"]\n",
    "df_party_counts"
   ]
  },
  {
   "cell_type": "markdown",
   "metadata": {},
   "source": [
    "Merge the two DataFrames."
   ]
  },
  {
   "cell_type": "code",
   "execution_count": 85,
   "metadata": {},
   "outputs": [],
   "source": [
    "# Merge DataFrame here \n",
    "df_merge = pd.merge(df_legal_names, df_party_counts, on=\"Party Code\")"
   ]
  },
  {
   "cell_type": "code",
   "execution_count": 86,
   "metadata": {},
   "outputs": [
    {
     "data": {
      "text/html": [
       "<div>\n",
       "<style scoped>\n",
       "    .dataframe tbody tr th:only-of-type {\n",
       "        vertical-align: middle;\n",
       "    }\n",
       "\n",
       "    .dataframe tbody tr th {\n",
       "        vertical-align: top;\n",
       "    }\n",
       "\n",
       "    .dataframe thead th {\n",
       "        text-align: right;\n",
       "    }\n",
       "</style>\n",
       "<table border=\"1\" class=\"dataframe\">\n",
       "  <thead>\n",
       "    <tr style=\"text-align: right;\">\n",
       "      <th></th>\n",
       "      <th>Party Code</th>\n",
       "      <th>Legal Name</th>\n",
       "      <th>Count</th>\n",
       "    </tr>\n",
       "  </thead>\n",
       "  <tbody>\n",
       "    <tr>\n",
       "      <th>0</th>\n",
       "      <td>A</td>\n",
       "      <td>AMERICAN</td>\n",
       "      <td>52</td>\n",
       "    </tr>\n",
       "    <tr>\n",
       "      <th>1</th>\n",
       "      <td>B</td>\n",
       "      <td>AMERICAN DELTA</td>\n",
       "      <td>441</td>\n",
       "    </tr>\n",
       "    <tr>\n",
       "      <th>2</th>\n",
       "      <td>D</td>\n",
       "      <td>DEMOCRATIC PARTY</td>\n",
       "      <td>38020</td>\n",
       "    </tr>\n",
       "    <tr>\n",
       "      <th>3</th>\n",
       "      <td>E</td>\n",
       "      <td>LIBERAL</td>\n",
       "      <td>30</td>\n",
       "    </tr>\n",
       "    <tr>\n",
       "      <th>4</th>\n",
       "      <td>G</td>\n",
       "      <td>NON PARTISAN</td>\n",
       "      <td>42</td>\n",
       "    </tr>\n",
       "    <tr>\n",
       "      <th>5</th>\n",
       "      <td>H</td>\n",
       "      <td>GREEN PARTY</td>\n",
       "      <td>82</td>\n",
       "    </tr>\n",
       "    <tr>\n",
       "      <th>6</th>\n",
       "      <td>I</td>\n",
       "      <td>UNAFFILIATED</td>\n",
       "      <td>7670</td>\n",
       "    </tr>\n",
       "    <tr>\n",
       "      <th>7</th>\n",
       "      <td>J</td>\n",
       "      <td>WORKING FAMILIES PARTY</td>\n",
       "      <td>161</td>\n",
       "    </tr>\n",
       "    <tr>\n",
       "      <th>8</th>\n",
       "      <td>L</td>\n",
       "      <td>LIBERTARIAN PARTY</td>\n",
       "      <td>98</td>\n",
       "    </tr>\n",
       "    <tr>\n",
       "      <th>9</th>\n",
       "      <td>M</td>\n",
       "      <td>REFORM PARTY</td>\n",
       "      <td>1</td>\n",
       "    </tr>\n",
       "    <tr>\n",
       "      <th>10</th>\n",
       "      <td>O</td>\n",
       "      <td>OTHERS/ALL OTHER PARTIES</td>\n",
       "      <td>33</td>\n",
       "    </tr>\n",
       "    <tr>\n",
       "      <th>11</th>\n",
       "      <td>Q</td>\n",
       "      <td>CONSTITUTION PARTY</td>\n",
       "      <td>17</td>\n",
       "    </tr>\n",
       "    <tr>\n",
       "      <th>12</th>\n",
       "      <td>R</td>\n",
       "      <td>REPUBLICAN PARTY</td>\n",
       "      <td>4851</td>\n",
       "    </tr>\n",
       "    <tr>\n",
       "      <th>13</th>\n",
       "      <td>T</td>\n",
       "      <td>CONSERVATIVE</td>\n",
       "      <td>14</td>\n",
       "    </tr>\n",
       "    <tr>\n",
       "      <th>14</th>\n",
       "      <td>V</td>\n",
       "      <td>NATURAL LAW PARTY</td>\n",
       "      <td>11</td>\n",
       "    </tr>\n",
       "    <tr>\n",
       "      <th>15</th>\n",
       "      <td>W</td>\n",
       "      <td>INDEPENDENT PARTY OF DEL</td>\n",
       "      <td>333</td>\n",
       "    </tr>\n",
       "    <tr>\n",
       "      <th>16</th>\n",
       "      <td>Y</td>\n",
       "      <td>THE BLUE ENIGMA PARTY</td>\n",
       "      <td>14</td>\n",
       "    </tr>\n",
       "    <tr>\n",
       "      <th>17</th>\n",
       "      <td>Z</td>\n",
       "      <td>SOCIALIST WORKERS PARTY</td>\n",
       "      <td>39</td>\n",
       "    </tr>\n",
       "  </tbody>\n",
       "</table>\n",
       "</div>"
      ],
      "text/plain": [
       "   Party Code                Legal Name  Count\n",
       "0           A                  AMERICAN     52\n",
       "1           B            AMERICAN DELTA    441\n",
       "2           D          DEMOCRATIC PARTY  38020\n",
       "3           E                   LIBERAL     30\n",
       "4           G              NON PARTISAN     42\n",
       "5           H               GREEN PARTY     82\n",
       "6           I              UNAFFILIATED   7670\n",
       "7           J    WORKING FAMILIES PARTY    161\n",
       "8           L         LIBERTARIAN PARTY     98\n",
       "9           M              REFORM PARTY      1\n",
       "10          O  OTHERS/ALL OTHER PARTIES     33\n",
       "11          Q        CONSTITUTION PARTY     17\n",
       "12          R          REPUBLICAN PARTY   4851\n",
       "13          T              CONSERVATIVE     14\n",
       "14          V         NATURAL LAW PARTY     11\n",
       "15          W  INDEPENDENT PARTY OF DEL    333\n",
       "16          Y     THE BLUE ENIGMA PARTY     14\n",
       "17          Z   SOCIALIST WORKERS PARTY     39"
      ]
     },
     "execution_count": 86,
     "metadata": {},
     "output_type": "execute_result"
    }
   ],
   "source": [
    "#Display merge here\n",
    "df_merge"
   ]
  },
  {
   "cell_type": "markdown",
   "metadata": {},
   "source": [
    "Create a bar graph again but using the legal name for each party as the value on the x axes."
   ]
  },
  {
   "cell_type": "code",
   "execution_count": 100,
   "metadata": {},
   "outputs": [
    {
     "data": {
      "text/plain": [
       "<matplotlib.axes._subplots.AxesSubplot at 0x7fc021cab430>"
      ]
     },
     "execution_count": 100,
     "metadata": {},
     "output_type": "execute_result"
    },
    {
     "data": {
      "image/png": "[encoded data removed]",
      "text/plain": [
       "<Figure size 432x288 with 1 Axes>"
      ]
     },
     "metadata": {
      "needs_background": "light"
     },
     "output_type": "display_data"
    }
   ],
   "source": [
    "df_merge.plot(x=\"Legal Name\", y=\"Count\", kind=\"bar\")"
   ]
  },
  {
   "cell_type": "code",
   "execution_count": null,
   "metadata": {},
   "outputs": [],
   "source": []
  }
 ],
 "metadata": {
  "kernelspec": {
   "display_name": "Python 3",
   "language": "python",
   "name": "python3"
  },
  "language_info": {
   "codemirror_mode": {
    "name": "ipython",
    "version": 3
   },
   "file_extension": ".py",
   "mimetype": "text/x-python",
   "name": "python",
   "nbconvert_exporter": "python",
   "pygments_lexer": "ipython3",
   "version": "3.8.3"
  }
 },
 "nbformat": 4,
 "nbformat_minor": 2
}
